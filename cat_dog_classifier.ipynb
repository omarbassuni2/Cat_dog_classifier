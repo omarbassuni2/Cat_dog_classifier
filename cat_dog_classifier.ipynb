{
 "cells": [
  {
   "cell_type": "code",
   "execution_count": 49,
   "metadata": {},
   "outputs": [
    {
     "name": "stdout",
     "output_type": "stream",
     "text": [
      "Train on 19956 samples, validate on 4990 samples\n",
      "Epoch 1/10\n",
      "19956/19956 [==============================] - 81s 4ms/sample - loss: 0.6305 - acc: 0.6415 - val_loss: 0.5863 - val_acc: 0.6870\n",
      "Epoch 2/10\n",
      "19956/19956 [==============================] - 78s 4ms/sample - loss: 0.5277 - acc: 0.7402 - val_loss: 0.5191 - val_acc: 0.7417\n",
      "Epoch 3/10\n",
      "19956/19956 [==============================] - 79s 4ms/sample - loss: 0.4772 - acc: 0.7752 - val_loss: 0.4800 - val_acc: 0.7691\n",
      "Epoch 4/10\n",
      "19956/19956 [==============================] - 95s 5ms/sample - loss: 0.4432 - acc: 0.7950 - val_loss: 0.4590 - val_acc: 0.7834\n",
      "Epoch 5/10\n",
      "19956/19956 [==============================] - 97s 5ms/sample - loss: 0.4165 - acc: 0.8110 - val_loss: 0.4877 - val_acc: 0.7671\n",
      "Epoch 6/10\n",
      "19956/19956 [==============================] - 92s 5ms/sample - loss: 0.3877 - acc: 0.8237 - val_loss: 0.4426 - val_acc: 0.7970\n",
      "Epoch 7/10\n",
      "19956/19956 [==============================] - 89s 4ms/sample - loss: 0.3664 - acc: 0.8374 - val_loss: 0.4524 - val_acc: 0.7948\n",
      "Epoch 8/10\n",
      "19956/19956 [==============================] - 79s 4ms/sample - loss: 0.3418 - acc: 0.8491 - val_loss: 0.4626 - val_acc: 0.7992\n",
      "Epoch 9/10\n",
      "19956/19956 [==============================] - 87s 4ms/sample - loss: 0.3216 - acc: 0.8601 - val_loss: 0.4685 - val_acc: 0.7932\n",
      "Epoch 10/10\n",
      "19956/19956 [==============================] - 90s 5ms/sample - loss: 0.2971 - acc: 0.8715 - val_loss: 0.4988 - val_acc: 0.7878\n"
     ]
    },
    {
     "data": {
      "text/plain": [
       "<tensorflow.python.keras.callbacks.History at 0x279af25d400>"
      ]
     },
     "execution_count": 49,
     "metadata": {},
     "output_type": "execute_result"
    }
   ],
   "source": [
    "import numpy as np\n",
    "import matplotlib.pyplot as plt\n",
    "import os\n",
    "import cv2\n",
    "import random\n",
    "\n",
    "DATADIR = 'E:/Machine learning/Projects and Datasets/kagglecatsanddogs_3367a/PetImages' #put your data set directory\n",
    "CATEGORIES = [\"Dog\", \"Cat\"]\n",
    "\n",
    "training_data = []\n",
    "IMG_SIZE = 50\n",
    "def create_training_data():\n",
    "    for category in CATEGORIES:\n",
    "        path = os.path.join(DATADIR, category) #path to cat or dog directory\n",
    "        class_num = CATEGORIES.index(category)\n",
    "        for img in os.listdir(path):\n",
    "            try:\n",
    "                img_array = cv2.imread(os.path.join(path, img), cv2.IMREAD_GRAYSCALE) #to minimize the size of the data & it's not a core differentiating factor\n",
    "                gray_img_array = cv2.resize(img_array, (IMG_SIZE, IMG_SIZE))\n",
    "                training_data.append([gray_img_array, class_num])\n",
    "            except Exception as e:\n",
    "                pass\n",
    "                #print(e) if you want to know the error\n",
    "                \n",
    "create_training_data()\n",
    "random.shuffle(training_data)\n",
    "X = []\n",
    "y = []\n",
    "\n",
    "for features, label in training_data:\n",
    "    X.append(features)\n",
    "    y.append(label)\n",
    "    \n",
    "X = np.array(X).reshape(-1, IMG_SIZE, IMG_SIZE, 1)  #use the -1 to say it's any number of features\n",
    "                                                    #use 1 because it's a grayscale\n",
    "import tensorflow as tf\n",
    "from tensorflow.keras.models import Sequential\n",
    "from tensorflow.keras.layers import Dense, Dropout, Activation, Flatten, Conv2D, MaxPooling2D\n",
    "\n",
    "\n",
    "X = X/255.0  #to normalize as the max pixel is 256\n",
    "\n",
    "model = Sequential()\n",
    "model.add(      Conv2D(64, (3,3), input_shape = X.shape[1:])        ) #(3,3) window size, input_shape = X.shape[1:] input shape\n",
    "model.add(Activation(\"relu\"))\n",
    "model.add(MaxPooling2D(pool_size = (2,2)))\n",
    "\n",
    "model.add(      Conv2D(64, (3,3))       )\n",
    "model.add(Activation(\"relu\"))\n",
    "model.add(MaxPooling2D(pool_size = (2,2)))\n",
    "\n",
    "model.add(Flatten())\n",
    "model.add(Dense(64))\n",
    "\n",
    "model.add(Dense(1))\n",
    "model.add(Activation(\"sigmoid\"))\n",
    "\n",
    "model.compile(loss=\"binary_crossentropy\",\n",
    "              optimizer=\"adam\",\n",
    "             metrics=['accuracy']\n",
    "             )\n",
    "model.fit(X, y, batch_size=32, epochs=10,validation_split = 0.2)"
   ]
  },
  {
   "cell_type": "code",
   "execution_count": 51,
   "metadata": {},
   "outputs": [],
   "source": [
    "model.save('cat_dog_classifierrrrrrr')"
   ]
  },
  {
   "cell_type": "code",
   "execution_count": null,
   "metadata": {},
   "outputs": [],
   "source": [
    "#to reload the model new_model = tf.keras.load_model('cat_dog_classifier')"
   ]
  }
 ],
 "metadata": {
  "kernelspec": {
   "display_name": "Python 3",
   "language": "python",
   "name": "python3"
  },
  "language_info": {
   "codemirror_mode": {
    "name": "ipython",
    "version": 3
   },
   "file_extension": ".py",
   "mimetype": "text/x-python",
   "name": "python",
   "nbconvert_exporter": "python",
   "pygments_lexer": "ipython3",
   "version": "3.6.8"
  }
 },
 "nbformat": 4,
 "nbformat_minor": 2
}
